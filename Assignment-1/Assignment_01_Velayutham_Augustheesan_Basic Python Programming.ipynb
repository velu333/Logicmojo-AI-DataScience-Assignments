{
  "cells": [
    {
      "cell_type": "markdown",
      "id": "cf39e36c-305d-456a-b9e0-02a04cea95b0",
      "metadata": {
        "id": "cf39e36c-305d-456a-b9e0-02a04cea95b0"
      },
      "source": [
        "# Assignment-1\n",
        "\n",
        "This notebook contains the coding questions to test the proficiency in basic python.\n",
        "\n",
        "### Date: 22nd April, 2025\n",
        "\n",
        "### Steps to solve and upload the assignment\n",
        "\n",
        "- Download the notebook in your local machine.\n",
        "- Solve the questions in the notebook and save it.\n",
        "- Rename the file as `Assignment-01-<your_name>_<your_surname>.ipynb`. For example if your name is Dipika Chopra then name the file as `Assignment-01-Dipika_Chopra.ipynb`.\n",
        "- Upload the solved notebook in the google drive location: https://drive.google.com/drive/folders/1ocablnD-nmo2Q1d4Q35BtJMcIMdwONK0?usp=sharing\n",
        "\n",
        "<h3><span style=\"color:red\"> Deadline: 30th April, 2025 </span></h3>"
      ]
    },
    {
      "cell_type": "markdown",
      "id": "fae8a82b-4baa-48a5-b7b0-cc0a77cd8419",
      "metadata": {
        "id": "fae8a82b-4baa-48a5-b7b0-cc0a77cd8419"
      },
      "source": [
        "#### Question-1\n",
        "\n",
        "Write a function `second_largest(numbers)` that takes a list of numbers and returns the second largest number in the list. Assume the list has at least two unique numbers.\n",
        "\n",
        "Example:\n",
        "```python\n",
        "numbers = [10, 5, 20, 8, 15]\n",
        "second = second_largest(numbers)\n",
        "print(second)\n",
        "# Expected output: 15\n",
        "```"
      ]
    },
    {
      "cell_type": "code",
      "execution_count": 29,
      "id": "c59cc6dd-bf81-4e61-9d19-e086c6ebc1cf",
      "metadata": {
        "id": "c59cc6dd-bf81-4e61-9d19-e086c6ebc1cf",
        "colab": {
          "base_uri": "https://localhost:8080/"
        },
        "outputId": "14c73847-27ad-4cec-eae0-946b3f12ded7"
      },
      "outputs": [
        {
          "output_type": "stream",
          "name": "stdout",
          "text": [
            "All tests passed!\n",
            "Enter a list of numbers separated by comma: 1,5,6\n",
            "The second largest number is: 5\n"
          ]
        }
      ],
      "source": [
        "\"\"\"Module to return the second largest number from a given list of numbers.\"\"\"\n",
        "\n",
        "\n",
        "def second_largest(input_numbers: list[int | str]) -> int:\n",
        "  \"\"\"\n",
        "  Return the second largest unique number from the list.\n",
        "\n",
        "  Args:\n",
        "    input_numbers (list[int | str]): A list of integers or numeric strings.\n",
        "\n",
        "  Returns:\n",
        "    int: The second largest unique number in the list.\n",
        "\n",
        "  Raises:\n",
        "    ValueError: If fewer than 2 unique numbers are provided or if any element is non-numerical.\n",
        "\n",
        "  \"\"\"\n",
        "  try:\n",
        "    numbers = [int(x) for x in input_numbers]\n",
        "  except ValueError:\n",
        "    raise ValueError(\"All inputs must be integers.\")\n",
        "\n",
        "  unique_numbers = sorted(set(numbers),reverse=True)\n",
        "\n",
        "  if len(unique_numbers) < 2:\n",
        "    raise ValueError(\"At least 2 unique numbers are required.\")\n",
        "\n",
        "  return unique_numbers[1]  # second largest\n",
        "\n",
        "\n",
        "# Inline tests\n",
        "def _run_tests():\n",
        "    # Normal cases\n",
        "    assert second_largest([1, 2, 3, 4]) == 3  # integer inputs\n",
        "    assert second_largest([\"10\", \"20\", \"30\"]) == 20  # string inputs\n",
        "    assert second_largest([5, 5, 10, 20]) == 10  # duplicates removed\n",
        "\n",
        "    # Edge cases\n",
        "    try:\n",
        "        second_largest([5])  # only one number\n",
        "        assert False, \"ValueError not raised for list with only one number.\"\n",
        "    except ValueError as e:\n",
        "        assert str(e) == \"At least 2 unique numbers are required.\"\n",
        "\n",
        "    try:\n",
        "        second_largest([\"a\", \"b\"])  # non-numeric input\n",
        "        assert False, \"ValueError not raised for non-numeric input.\"\n",
        "    except ValueError as e:\n",
        "        assert \"integers\" in str(e)\n",
        "\n",
        "    print(\"All tests passed!\")\n",
        "\n",
        "\n",
        "# User input\n",
        "if __name__ == \"__main__\":\n",
        "  _run_tests()  #  run tests first\n",
        "  input_str = input(\"Enter a list of numbers separated by comma: \")\n",
        "  try:\n",
        "    raw_numbers = [x.strip() for x in input_str.split(\",\") if x.strip()]\n",
        "    second_largest_number = second_largest(raw_numbers)\n",
        "    print(f\"The second largest number is: {second_largest_number}\")\n",
        "  except ValueError as e:\n",
        "    print(f\"Error: {e}\")\n",
        "  except Exception as e:\n",
        "    print(f\"An unexpected error occurred:{e}\")\n",
        "\n",
        "\n",
        "\n",
        "\n",
        "\n",
        "\n"
      ]
    },
    {
      "cell_type": "markdown",
      "id": "d36297be-09c5-4cda-8b52-281566a62f65",
      "metadata": {
        "id": "d36297be-09c5-4cda-8b52-281566a62f65"
      },
      "source": [
        "#### Question-2\n",
        "\n",
        "Write a function `count_vowels(text)` that takes a string as input and returns the number of vowels (a, e, i, o, u - case-insensitive) present in the string.\n",
        "\n",
        "Example:\n",
        "```python\n",
        "text = \"Hello World\"\n",
        "vowel_count = count_vowels(text)\n",
        "print(vowel_count)\n",
        "# Expected output: 3\n",
        "```\n"
      ]
    },
    {
      "cell_type": "code",
      "execution_count": 30,
      "id": "35ed7370-242a-49d2-a7d2-da9b0c0d2ca4",
      "metadata": {
        "id": "35ed7370-242a-49d2-a7d2-da9b0c0d2ca4",
        "colab": {
          "base_uri": "https://localhost:8080/"
        },
        "outputId": "a9047022-f16b-4c19-c725-2b43c05bb9aa"
      },
      "outputs": [
        {
          "output_type": "stream",
          "name": "stdout",
          "text": [
            "All internal tests passed!\n",
            "Enter a string: hello world\n",
            "The count of vowels in the string is: 3\n"
          ]
        }
      ],
      "source": [
        "\"\"\"Module to count the vowels from a sentence.\"\"\"\n",
        "\n",
        "import re\n",
        "\n",
        "VOWELS = set(\"aeiouAEIOU\")\n",
        "\n",
        "\n",
        "def count_vowels(input_string: str) -> int:\n",
        "    \"\"\"\n",
        "    Return the count of vowels in the input string.\n",
        "\n",
        "    Args:\n",
        "        input_string (str): The input string.\n",
        "\n",
        "    Returns:\n",
        "        int: The count of vowels in the input string.\n",
        "\n",
        "    Raises:\n",
        "         TypeError: If the input is not a string\n",
        "\n",
        "    Notes:\n",
        "        - Both uppercase and lowercase vowels are counted.\n",
        "        - Non-alphabetic strings (numbers, symbols) return 0.\n",
        "    \"\"\"\n",
        "    # Validation\n",
        "    if not isinstance(input_string, str):\n",
        "        raise TypeError(\"Invalid input. Please enter a string\")\n",
        "\n",
        "    # If the input string does not contain any alphabetic characters, return 0\n",
        "    if not re.search(r\"[A-Za-z]\", input_string):\n",
        "        return 0\n",
        "\n",
        "    vowel_count = sum(1 for char in input_string if char in VOWELS)\n",
        "    return vowel_count\n",
        "\n",
        "\n",
        "def _run_tests():\n",
        "    assert count_vowels(\"hi\") == 1, \"Test failed for 'hi'\"  # lower case vowel\n",
        "    assert count_vowels(\"HI\") == 1, \"Test failed for 'HI'\"  # upper case vowel\n",
        "    assert count_vowels(\"Hi Joe\") == 3, \"Test failed for 'Hi Joe'\"  # more than 1 word\n",
        "    assert count_vowels(\"555\") == 0, \"Test failed for '555'\" # non-alphabetic input\n",
        "    assert count_vowels(\"!@#$%\") == 0, \"Test failed for '!@#$%'\" # special character input\n",
        "    print(\"All internal tests passed!\")\n",
        "\n",
        "\n",
        "def main():\n",
        "    \"\"\" Main program to get the user input and print the vowel count.\"\"\"\n",
        "    input_string = input(\"Enter a string: \").strip()\n",
        "    if not input_string:\n",
        "        print(\"No input provided\")\n",
        "    else:\n",
        "        vowel_count = count_vowels(input_string)\n",
        "        print(f\"The count of vowels in the string is: {vowel_count}\")\n",
        "\n",
        "\n",
        "if __name__ == \"__main__\":\n",
        "    _run_tests()\n",
        "    main()"
      ]
    },
    {
      "cell_type": "markdown",
      "id": "1896a5da-319f-483a-835d-a08b0710a728",
      "metadata": {
        "id": "1896a5da-319f-483a-835d-a08b0710a728"
      },
      "source": [
        "#### Question-3\n",
        "\n",
        "Write a Python program to print all the prime numbers between 1 and N (inclusive). Where N is a positive integer and an input from user.\n",
        "\n",
        "Example:\n",
        "\n",
        "```python\n",
        "N = 20\n",
        "# Expected output: 2,3,5,7,11,13,17,19\n",
        "\n",
        "```"
      ]
    },
    {
      "cell_type": "code",
      "execution_count": 32,
      "id": "f5d24378-8fc1-42da-8a41-b05794effe99",
      "metadata": {
        "id": "f5d24378-8fc1-42da-8a41-b05794effe99",
        "colab": {
          "base_uri": "https://localhost:8080/"
        },
        "outputId": "01cde582-9476-4f99-9fee-1cbd314896bd"
      },
      "outputs": [
        {
          "output_type": "stream",
          "name": "stdout",
          "text": [
            "Enter a number: 8\n",
            "The list of prime numbers up to 8 are [2, 3, 5, 7]\n"
          ]
        }
      ],
      "source": [
        "\"\"\"Python program to print all the prime numbers between 1 and n.\"\"\"\n",
        "\n",
        "import math\n",
        "\n",
        "try:\n",
        "    n = int(input(\"Enter a number: \"))\n",
        "\n",
        "    if n <= 1:\n",
        "        print(\"No prime numbers for this range. Please enter an integer greater than 1.\")\n",
        "\n",
        "    else:\n",
        "        prime_numbers = []\n",
        "        for i in range(2, n + 1):\n",
        "            max_divisor = int(math.sqrt(i)) + 1\n",
        "            for j in range(2, max_divisor):\n",
        "                if i % j == 0:\n",
        "                    break\n",
        "            else:\n",
        "                prime_numbers.append(i)\n",
        "\n",
        "        print(f\"The list of prime numbers up to {n} are {prime_numbers}\")\n",
        "\n",
        "except ValueError:\n",
        "    print(\"Invalid input. Please enter an integer greater than 1.\")\n",
        "\n"
      ]
    },
    {
      "cell_type": "markdown",
      "id": "7e9eedf0-23e7-4eb0-94f3-2ca0c23d9bad",
      "metadata": {
        "id": "7e9eedf0-23e7-4eb0-94f3-2ca0c23d9bad"
      },
      "source": [
        "#### Question-4\n",
        "\n",
        "Write a function `merge_sorted_lists(list1, list2)` that takes two sorted lists of integers, `list1` and `list2` and merges them into a single sorted list efficiently. One way is to simple concatenate the lists and sort. But think of a better approach.\n",
        "\n",
        "Example:\n",
        "```python\n",
        "list1 = [1, 4, 5]\n",
        "list2 = [1, 3, 4]\n",
        "merged = merge_sorted_lists(list1, list2)\n",
        "print(merged)\n",
        "# Expected output: [1, 1, 3, 4, 4, 5]\n",
        "```"
      ]
    },
    {
      "cell_type": "code",
      "execution_count": 33,
      "id": "8659d4f3-1f44-461f-9f66-d1f8c1301505",
      "metadata": {
        "id": "8659d4f3-1f44-461f-9f66-d1f8c1301505",
        "colab": {
          "base_uri": "https://localhost:8080/"
        },
        "outputId": "507d077d-4b62-44b9-977d-74940a7c4735"
      },
      "outputs": [
        {
          "output_type": "stream",
          "name": "stdout",
          "text": [
            "The merged list is:[1, 1, 3, 4, 4, 5]\n"
          ]
        }
      ],
      "source": [
        "\"\"\"Module to merge 2 lists efficiently.\"\"\"\n",
        "\n",
        "# from heapq import merge\n",
        "\n",
        "def merge_sorted_lists(list1: list[int], list2: list[int]) -> list[int]:\n",
        "    \"\"\"\n",
        "    Merge two sorted lists into one sorted list efficiently.\n",
        "\n",
        "    Args:\n",
        "        list1 (list[int]): First sorted list.\n",
        "        list2 (list[int]): Second sorted list.\n",
        "\n",
        "    Returns:\n",
        "        A new sorted list containing elements from list1 and list2.\n",
        "\n",
        "    Time Complexity:\n",
        "        O(n+m), where n, m are the lengths of list1 and list2.\n",
        "    Space Complexity:\n",
        "        O(n+m), due to the new list holding all the elements.\n",
        "\n",
        "    Note:\n",
        "        - This implementation uses a manual two-pointer approach.\n",
        "        - Alternatively, you can use: `list(merge(list1, list2))` for a\n",
        "          more Pythonic, lazy iterator-based solution.\n",
        "    \"\"\"\n",
        "    i, j = 0, 0\n",
        "    result = []\n",
        "\n",
        "    while i < len(list1) and j < len(list2):\n",
        "        if list1[i] <= list2[j]:\n",
        "            result.append(list1[i])\n",
        "            i += 1\n",
        "        else:\n",
        "            result.append(list2[j])\n",
        "            j += 1\n",
        "\n",
        "    # Append any remaining elements.\n",
        "    result.extend(list1[i:])\n",
        "    result.extend(list2[j:])\n",
        "    return result\n",
        "\n",
        "    # Alternative approach:\n",
        "    # return list(merge(list1, list2))\n",
        "\n",
        "\n",
        "# Test the function\n",
        "if __name__ == \"__main__\":\n",
        "    list1 = [1, 4, 5]\n",
        "    list2 = [1, 3, 4]\n",
        "    result1 = merge_sorted_lists(list1,list2)\n",
        "    print(f\"The merged list is:{result1}\")\n",
        "\n"
      ]
    },
    {
      "cell_type": "markdown",
      "id": "3c21c6f4-3fc7-476f-8ae3-ca81ca419973",
      "metadata": {
        "id": "3c21c6f4-3fc7-476f-8ae3-ca81ca419973"
      },
      "source": [
        "#### Question-5\n",
        "\n",
        "Create a dictionary like: `student_grades = {\"Alice\": 85, \"Bob\": 92, \"Charlie\": 78}`. Write Python code to find and print the name of the student with the highest grade.\n",
        "\n",
        "Example:\n",
        "```python\n",
        "student_grades = {\"Alice\": 85, \"Bob\": 92, \"Charlie\": 78}\n",
        "# Expected output: Bob\n",
        "```"
      ]
    },
    {
      "cell_type": "code",
      "execution_count": 34,
      "id": "4189c02b-fbca-4ca5-abdc-eab31a5b0578",
      "metadata": {
        "id": "4189c02b-fbca-4ca5-abdc-eab31a5b0578",
        "colab": {
          "base_uri": "https://localhost:8080/"
        },
        "outputId": "197360f6-c7bf-41e1-8841-96088a7b3b06"
      },
      "outputs": [
        {
          "output_type": "stream",
          "name": "stdout",
          "text": [
            "The student with the highest grade is Alex, with a grade of 98.\n"
          ]
        }
      ],
      "source": [
        "\"\"\"\n",
        "Module to determine the student with the highest grade.\n",
        "\"\"\"\n",
        "\n",
        "def max_grade_student(grades: dict[str, int]) -> tuple[str, int]:\n",
        "    \"\"\"\n",
        "    Return the student's name and grade for the maximum grade score.\n",
        "\n",
        "    Args:\n",
        "        grades (dict[str, int]):  dictionary mapping student names to their grade.\n",
        "\n",
        "    Returns:\n",
        "        tuple[str, int]: A tuple containg the name and grade of the student with the maximum grade.\n",
        "\n",
        "    Raises:\n",
        "        TypeError: If `grades` is not a dictionary.\n",
        "        ValueError: If `grades` is empty.\n",
        "\n",
        "    \"\"\"\n",
        "\n",
        "\n",
        "    if not isinstance(grades, dict):\n",
        "        raise TypeError(\"grades must be a dictionary.\")\n",
        "\n",
        "    if not grades:\n",
        "        raise ValueError(\"grades cannot be empty.\")\n",
        "\n",
        "    top_student, top_grade = max(grades.items(), key=lambda item: item[1])\n",
        "    return top_student, top_grade\n",
        "\n",
        "\n",
        "if __name__ == \"__main__\":\n",
        "    # Testing the function\n",
        "    # Define the input for student_grades as a dictionary.\n",
        "    student_grades = {\"Alice\": 85, \"Bob\": 92, \"Charlie\": 78, \"Alex\": 98}\n",
        "\n",
        "    # Calculate the max grade and print the student name\n",
        "    top_student, top_grade = max_grade_student(student_grades)\n",
        "    print(f\"The student with the highest grade is {top_student}, with a grade of {top_grade}.\")\n",
        "\n"
      ]
    },
    {
      "cell_type": "markdown",
      "id": "a4799b88-d567-4b82-b640-941633d21138",
      "metadata": {
        "id": "a4799b88-d567-4b82-b640-941633d21138"
      },
      "source": [
        "#### Question-6\n",
        "\n",
        "Write a function `is_anagram(str1, str2)` that checks if two given strings are anagrams of each other (contain the same characters with the same frequencies, ignoring case).\n",
        "\n",
        "Example:\n",
        "```python\n",
        "print(is_anagram(\"listen\", \"silent\"))\n",
        "print(is_anagram(\"hello\", \"world\"))\n",
        "# Expected output:\n",
        "# True\n",
        "# False\n",
        "```"
      ]
    },
    {
      "cell_type": "code",
      "execution_count": 37,
      "id": "e1a3a07d-11f0-4907-9c90-5031400f5452",
      "metadata": {
        "id": "e1a3a07d-11f0-4907-9c90-5031400f5452",
        "colab": {
          "base_uri": "https://localhost:8080/"
        },
        "outputId": "76ac33c3-09a3-4c23-9053-e06fe85ca306"
      },
      "outputs": [
        {
          "output_type": "stream",
          "name": "stdout",
          "text": [
            "The strings 'listen' and 'Silent' are anagrams.\n"
          ]
        }
      ],
      "source": [
        "\"\"\"\n",
        "Module to check if two input strings are anagrams.\n",
        "\"\"\"\n",
        "from collections import Counter\n",
        "import re\n",
        "\n",
        "def is_anagram(string1: str, string2: str) -> bool:\n",
        "    \"\"\"Return True if the two input strings are anagrams.\n",
        "\n",
        "    Args:\n",
        "      string1 (str): First input string.\n",
        "      string2 (str): Second input string.\n",
        "\n",
        "    Returns:\n",
        "      bool: True if the strings are anagrams. False otherwise.\n",
        "\n",
        "    Raises:\n",
        "      TypeError: If either input is not a string.\n",
        "    \"\"\"\n",
        "    if not isinstance(string1, str):\n",
        "        raise TypeError(\"Expected string for string1.\")\n",
        "\n",
        "    if not isinstance(string2, str):\n",
        "        raise TypeError(\"Expected string for string2.\")\n",
        "\n",
        "    # keep only alphanemeric chracters and normalize case\n",
        "    string1 = re.sub(r'[^a-z0-9]', '', string1.lower())\n",
        "    string2 = re.sub(r'[^a-z0-9]', '', string2.lower())\n",
        "\n",
        "    return Counter(string1) == Counter(string2)\n",
        "\n",
        "\n",
        "if __name__ == \"__main__\":\n",
        "    # Testing the function\n",
        "    string1 = \"listen\"\n",
        "    string2 = \"Silent\"\n",
        "    result = is_anagram(string1, string2)\n",
        "\n",
        "    if result:\n",
        "        print(f\"The strings '{string1}' and '{string2}' are anagrams.\")\n",
        "    else:\n",
        "        print(f\"The strings '{string1}' and '{string2}' are not anagrams.\")\n",
        "\n"
      ]
    },
    {
      "cell_type": "markdown",
      "id": "4ede0c1c-0af8-4cbb-b9af-9cb2a200ab9d",
      "metadata": {
        "id": "4ede0c1c-0af8-4cbb-b9af-9cb2a200ab9d"
      },
      "source": [
        "#### Question-7\n",
        "\n",
        "Write a function `rotate_list(lst, k)` that rotates a given list lst to the right by `k` positions in-place. Assume `k` is a non-negative integer and can be greater than the length of the list.\n",
        "\n",
        "Example:\n",
        "\n",
        "```python\n",
        "my_list = [1, 2, 3, 4, 5]\n",
        "rotate_list(my_list, 2)\n",
        "print(my_list)\n",
        "# Expected output: [4, 5, 1, 2, 3]\n",
        "```"
      ]
    },
    {
      "cell_type": "code",
      "execution_count": 38,
      "id": "5193d146-984f-46ba-ab95-9d6bfa18a711",
      "metadata": {
        "id": "5193d146-984f-46ba-ab95-9d6bfa18a711",
        "colab": {
          "base_uri": "https://localhost:8080/"
        },
        "outputId": "fce00753-c98c-4253-b4c0-093add79c412"
      },
      "outputs": [
        {
          "output_type": "stream",
          "name": "stdout",
          "text": [
            "The rotated list to 2 positions to the right of the list [1, 2, 3, 4, 5] is [4, 5, 1, 2, 3].\n"
          ]
        }
      ],
      "source": [
        "\"\"\"\n",
        "Module to rotate a list to the right by given number of positions.\n",
        "\"\"\"\n",
        "from collections import deque\n",
        "from typing import Any\n",
        "\n",
        "# Define the function to rotate the input list to k positions to the right\n",
        "\n",
        "def rotate_list(my_list: list[Any], k: int) -> list[Any]:\n",
        "    \"\"\"Rotate a list to the right by given number of positions.\n",
        "\n",
        "    Args:\n",
        "        my_list (list[Any]): The input list.\n",
        "        k (int): The number of positions to rotate to the right.\n",
        "\n",
        "    Returns:\n",
        "        list[Any]: The rotated list.\n",
        "\n",
        "    Raises:\n",
        "        TypeError: If `my_list` is not a list or k is not an integer.\n",
        "        ValueError: If `my_list` is empty.\n",
        "\n",
        "    \"\"\"\n",
        "    # Validations\n",
        "    if not isinstance(my_list, list):\n",
        "        raise TypeError(\"Expected list for my_list.\")\n",
        "\n",
        "    if not my_list:\n",
        "        raise ValueError(\"Expected non-empty list for my_list.\")\n",
        "\n",
        "    if not isinstance(k, int):\n",
        "        raise TypeError(\"Expected int for k.\")\n",
        "\n",
        "    # Avoid unnecessary full rotations.\n",
        "    k = k % len(my_list)\n",
        "    d = deque(my_list)\n",
        "    d.rotate(k)\n",
        "    return list(d)\n",
        "\n",
        "if __name__ == \"__main__\":\n",
        "\n",
        "  my_list = [1, 2, 3, 4, 5]\n",
        "  k = 2 # number of positions to be rotated.\n",
        "  # Call the function to rotate the list.\n",
        "  result = rotate_list(my_list, k)\n",
        "  print(f\"The rotated list to {k} positions to the right of the list {my_list} is {result}.\")\n",
        "\n"
      ]
    },
    {
      "cell_type": "markdown",
      "id": "c2bb2490-9374-47ff-b4c6-a27767108436",
      "metadata": {
        "id": "c2bb2490-9374-47ff-b4c6-a27767108436"
      },
      "source": [
        "#### Question-8\n",
        "\n",
        "You have a list of dictionaries, where each dictionary represents a product with keys \"name\", \"price\", and \"category\". Write a function group_by_category(products) that takes this list and returns a dictionary where the keys are the unique categories and the values are lists of product names belonging to that category.\n",
        "\n",
        "Example:\n",
        "\n",
        "```python\n",
        "products = [\n",
        "    {\"name\": \"Laptop\", \"price\": 1200, \"category\": \"Electronics\"},\n",
        "    {\"name\": \"Book\", \"price\": 25, \"category\": \"Books\"},\n",
        "    {\"name\": \"Tablet\", \"price\": 300, \"category\": \"Electronics\"},\n",
        "    {\"name\": \"Fiction\", \"price\": 15, \"category\": \"Books\"},\n",
        "]\n",
        "grouped_products = group_by_category(products)\n",
        "print(grouped_products)\n",
        "# Expected output: {'Electronics': ['Laptop', 'Tablet'], 'Books': ['Book', 'Fiction']}\n",
        "\n",
        "```\n"
      ]
    },
    {
      "cell_type": "code",
      "execution_count": 39,
      "id": "3f8bb46b-304e-4d2a-93b2-b86e7be1eedb",
      "metadata": {
        "id": "3f8bb46b-304e-4d2a-93b2-b86e7be1eedb",
        "colab": {
          "base_uri": "https://localhost:8080/"
        },
        "outputId": "2786c4af-5127-453d-c27b-794bf0d1f1ce"
      },
      "outputs": [
        {
          "output_type": "stream",
          "name": "stdout",
          "text": [
            "The grouped products are:\n",
            "{'Books': ['Book', 'Fiction'], 'Electronics': ['Laptop', 'Tablet']}\n"
          ]
        }
      ],
      "source": [
        "\"\"\"Module to group products by category.\"\"\"\n",
        "\n",
        "from collections import defaultdict\n",
        "from pprint import pprint\n",
        "\n",
        "\n",
        "# Define the function to group the products by category\n",
        "def group_by_category(products: list[dict[str, str | int]]) -> dict[str, list[str]]:\n",
        "    \"\"\"\n",
        "    Group products by category and return a dictionary mapping each category to a list of product names.\n",
        "\n",
        "    Args:\n",
        "        products (list[dict[str, str | int]]): List of product dictionaries.\n",
        "\n",
        "    Returns:\n",
        "        dict[str, list[str]]: Dictionary mapping category to a list of product names.\n",
        "\n",
        "    Raises:\n",
        "        TypeError:\n",
        "            If products is not a list.\n",
        "            If any element in products is not a dictionary.\n",
        "\n",
        "    \"\"\"\n",
        "    if not isinstance(products, list):\n",
        "        raise TypeError(\"Expected a list of product dictionaries.\")\n",
        "\n",
        "    grouped_products = defaultdict(list)\n",
        "    for product in products:\n",
        "        if not isinstance(product, dict):\n",
        "            raise TypeError(\"Each product must be a dictionary.\")\n",
        "\n",
        "        name = product.get(\"name\")\n",
        "        category = product.get(\"category\")\n",
        "        if name is None or category is None:\n",
        "            raise ValueError(\"Each product must contain 'name' and 'category' keys\")\n",
        "\n",
        "        grouped_products[category].append(product['name'])\n",
        "\n",
        "    return dict(grouped_products)\n",
        "\n",
        "\n",
        "\n",
        "if __name__ == \"__main__\":\n",
        "    # Define the list of products with a category\n",
        "    products = [\n",
        "        {\"name\": \"Laptop\", \"price\": 1200, \"category\": \"Electronics\"},\n",
        "        {\"name\": \"Book\", \"price\": 25, \"category\": \"Books\"},\n",
        "        {\"name\": \"Tablet\", \"price\": 300, \"category\": \"Electronics\"},\n",
        "        {\"name\": \"Fiction\", \"price\": 15, \"category\": \"Books\"},\n",
        "    ]\n",
        "    # Call the group_by_category function\n",
        "    result = group_by_category(products)\n",
        "    print(f\"The grouped products are:\")\n",
        "    pprint(result)\n",
        "\n"
      ]
    },
    {
      "cell_type": "markdown",
      "id": "af52c3db-7673-4776-9a9a-0112ea221827",
      "metadata": {
        "id": "af52c3db-7673-4776-9a9a-0112ea221827"
      },
      "source": [
        "#### Question-9\n",
        "\n",
        "Write a Python program that prints the first `n` rows of Pascal's triangle. `n` is a positive integer and an user input. To know about Pascal's triangle see the [wikipedia article](https://en.wikipedia.org/wiki/Pascal%27s_triangle):\n",
        "\n",
        "Example:\n",
        "\n",
        "```python\n",
        "n = 5\n",
        "# Expected output:\n",
        "#     1\n",
        "#    1 1\n",
        "#   1 2 1\n",
        "#  1 3 3 1\n",
        "# 1 4 6 4 1\n",
        "```"
      ]
    },
    {
      "cell_type": "code",
      "execution_count": 47,
      "id": "0d8d9fe0-65bb-4777-b487-92fa216ce2ef",
      "metadata": {
        "id": "0d8d9fe0-65bb-4777-b487-92fa216ce2ef",
        "colab": {
          "base_uri": "https://localhost:8080/"
        },
        "outputId": "75201ecb-c4df-4a8d-fa94-4c96c4a8df2f"
      },
      "outputs": [
        {
          "output_type": "stream",
          "name": "stdout",
          "text": [
            "Enter the number of rows for Pascal's Triangle: 6\n",
            "The Pascal Triangle is:\n",
            "      1      \n",
            "     1 1     \n",
            "    1 2 1    \n",
            "   1 3 3 1   \n",
            "  1 4 6 4 1  \n",
            "1 5 10 10 5 1\n"
          ]
        }
      ],
      "source": [
        "\"\"\"Module to generate the first n rows of Pascal's Triangle.\"\"\"\n",
        "\n",
        "\n",
        "def generate_pascals_triangle(n: int) -> list[list[int]]:\n",
        "    \"\"\"\n",
        "    Generate first n rows of the Pascal's Triangle.\n",
        "\n",
        "    Args:\n",
        "        n (int): Number of rows.\n",
        "\n",
        "    Returns:\n",
        "        list[list[int]]: List of rows of Pascal's Triangle.\n",
        "\n",
        "    Raises:\n",
        "        ValueError: If n is negative.\n",
        "\n",
        "    \"\"\"\n",
        "    if n < 0:\n",
        "        raise ValueError(\"Number of rows must be non-negative.\")\n",
        "\n",
        "    triangle = []\n",
        "    for i in range(n):\n",
        "        row = [1] * (i + 1)\n",
        "        for j in range(1, i):\n",
        "            row[j] = triangle[i - 1][j - 1] + triangle[i - 1][j]\n",
        "        triangle.append(row)\n",
        "    return triangle\n",
        "\n",
        "if __name__ == \"__main__\":\n",
        "    # Get the number of rows from the user\n",
        "    while True:\n",
        "        try:\n",
        "            num_rows = int(input(\"Enter the number of rows for Pascal's Triangle: \"))\n",
        "            break # Exit the loop if input is valid\n",
        "        except ValueError:\n",
        "            print(\"Invalid input. Please enter an integer for the number of rows.\")\n",
        "\n",
        "\n",
        "    result = generate_pascals_triangle(num_rows)\n",
        "\n",
        "    # Compute width for centering\n",
        "    width = len(' '.join(map(str, result[-1])))\n",
        "    print(\"The Pascal Triangle is:\")\n",
        "    for row in result:\n",
        "        print(' '.join(map(str, row)).center(width))\n",
        "\n",
        "\n"
      ]
    },
    {
      "cell_type": "markdown",
      "id": "51492f62-3388-4956-b081-fa1193f6c9ae",
      "metadata": {
        "id": "51492f62-3388-4956-b081-fa1193f6c9ae"
      },
      "source": [
        "#### Question-10\n",
        "\n",
        "Write a function `reverse_the_words(s)` which will take a string `s` as input and reverses the words in the string.\n",
        "\n",
        "Example:\n",
        "\n",
        "```python\n",
        "s = \"Python is awesome and challenging\"\n",
        "r = reverse_the_words(s)\n",
        "print(r)\n",
        "# Expected output: challenging and awesome is Python\n",
        "```"
      ]
    },
    {
      "cell_type": "code",
      "execution_count": 41,
      "id": "121c0320-c9b8-4e44-93ed-0996bcb265ef",
      "metadata": {
        "id": "121c0320-c9b8-4e44-93ed-0996bcb265ef",
        "colab": {
          "base_uri": "https://localhost:8080/"
        },
        "outputId": "b85e9b18-8f35-479e-d939-f3a6624a4e23"
      },
      "outputs": [
        {
          "output_type": "stream",
          "name": "stdout",
          "text": [
            "The reversed sentence is: challenging and awesome is Python\n"
          ]
        }
      ],
      "source": [
        "\"\"\"Module to reverse the words from an input sentence.\"\"\"\n",
        "\n",
        "def reverse_the_words(sentence: str) -> str:\n",
        "    \"\"\"\n",
        "    Reverse the words in the input sentence.\n",
        "\n",
        "    Args:\n",
        "        sentence (str): Input string.\n",
        "\n",
        "    Returns:\n",
        "        str: The sentence with the words reversed.\n",
        "\n",
        "    Raises:\n",
        "        TypeError: If the input is not string.\n",
        "    \"\"\"\n",
        "    # Input Validation\n",
        "\n",
        "    if not isinstance(sentence, str):\n",
        "        raise TypeError(\"Expected string for sentence\")\n",
        "\n",
        "    if not sentence.strip():\n",
        "        return \"\"\n",
        "\n",
        "    # Split the sentence into words, reverse and join back into string\n",
        "    return \" \".join(reversed(sentence.split()))\n",
        "\n",
        "\n",
        "if __name__ == \"__main__\":\n",
        "\n",
        "    # Define the input string that needs to be reversed\n",
        "    sentence = \"Python is awesome and challenging\"\n",
        "\n",
        "    # Call the function to reverse the string\n",
        "    result = reverse_the_words(sentence)\n",
        "    print(f\"The reversed sentence is: {result}\")\n",
        "\n",
        "\n"
      ]
    },
    {
      "cell_type": "markdown",
      "id": "c8f38103-609a-43f1-869c-a08294ca9295",
      "metadata": {
        "id": "c8f38103-609a-43f1-869c-a08294ca9295"
      },
      "source": [
        "#### Bonus question\n",
        "\n",
        "Write a function `word_counter(s)` which will take a string `s` as input and returns a dictionary with count of words (case insensitive). Remove all the punctuations and special symbols present in the string.  \n",
        "\n",
        "Example:\n",
        "```python\n",
        "s = \"This city is a beautiful city. This is where I live\"\n",
        "d = word_counter(s)\n",
        "\n",
        "# Expected output (output can be in any order): {\"this\": 2, \"city\": 2, \"is\": 2, \"a\": 1, \"beautiful\": 1, \"where\": 1, \"i\": 1, \"live\": 1}\n",
        "```"
      ]
    },
    {
      "cell_type": "code",
      "execution_count": 42,
      "id": "65b4322f-bfd3-42f9-b92e-d10897742b71",
      "metadata": {
        "id": "65b4322f-bfd3-42f9-b92e-d10897742b71",
        "colab": {
          "base_uri": "https://localhost:8080/"
        },
        "outputId": "4ca7e972-fd26-4de3-e7bb-3cc3663280f4"
      },
      "outputs": [
        {
          "output_type": "stream",
          "name": "stdout",
          "text": [
            "The dictionary with the count of words: {'a': 1, 'beautiful': 1, 'city': 2, 'i': 1, 'is': 2, 'live': 1, 'this': 2, 'where': 1}\n"
          ]
        }
      ],
      "source": [
        "\"\"\"Module to count the words in a sentence.\"\"\"\n",
        "\n",
        "from collections import Counter\n",
        "import re\n",
        "\n",
        "def word_counter(sentence: str) -> dict[str, int]:\n",
        "    \"\"\"\n",
        "    Count the words in a sentence.\n",
        "\n",
        "    Args:\n",
        "        sentence (str): Input sentence.\n",
        "\n",
        "    Returns:\n",
        "        dict[str, int]: Mapping of words to their frequencies.\n",
        "\n",
        "    Raises:\n",
        "        TypeError: If the input is not a string.\n",
        "    \"\"\"\n",
        "    # Validation\n",
        "\n",
        "    if not isinstance(sentence, str):\n",
        "        raise TypeError(\"Invalid input. Please enter a string.\")\n",
        "\n",
        "    if not sentence.strip():\n",
        "        return {}\n",
        "\n",
        "    # Extract words and count the frequencies (ignore punctuation)\n",
        "    words = re.findall(r\"\\b\\w+\\b\", sentence.lower())\n",
        "    return dict(Counter(words))\n",
        "\n",
        "\n",
        "if __name__ == \"__main__\":\n",
        "\n",
        "    # Define the input string\n",
        "    sentence = \"This city is a beautiful city. This is where I live\"\n",
        "\n",
        "    # Call the function to count the words\n",
        "    result = word_counter(sentence)\n",
        "    sorted_result = dict(sorted(result.items()))\n",
        "    print(f\"The dictionary with the count of words: {sorted_result}\")\n"
      ]
    }
  ],
  "metadata": {
    "kernelspec": {
      "display_name": "Python 3 (ipykernel)",
      "language": "python",
      "name": "python3"
    },
    "language_info": {
      "codemirror_mode": {
        "name": "ipython",
        "version": 3
      },
      "file_extension": ".py",
      "mimetype": "text/x-python",
      "name": "python",
      "nbconvert_exporter": "python",
      "pygments_lexer": "ipython3",
      "version": "3.12.9"
    },
    "colab": {
      "provenance": []
    }
  },
  "nbformat": 4,
  "nbformat_minor": 5
}